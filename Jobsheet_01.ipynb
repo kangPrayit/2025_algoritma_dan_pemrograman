{
  "nbformat": 4,
  "nbformat_minor": 0,
  "metadata": {
    "colab": {
      "provenance": [],
      "authorship_tag": "ABX9TyPQzzfNDDZwDASJpaTK2YZ9",
      "include_colab_link": true
    },
    "kernelspec": {
      "name": "python3",
      "display_name": "Python 3"
    },
    "language_info": {
      "name": "python"
    }
  },
  "cells": [
    {
      "cell_type": "markdown",
      "metadata": {
        "id": "view-in-github",
        "colab_type": "text"
      },
      "source": [
        "<a href=\"https://colab.research.google.com/github/kangPrayit/2025_algoritma_dan_pemrograman/blob/main/Jobsheet_01.ipynb\" target=\"_parent\"><img src=\"https://colab.research.google.com/assets/colab-badge.svg\" alt=\"Open In Colab\"/></a>"
      ]
    },
    {
      "cell_type": "markdown",
      "source": [
        "# Praktikum 01: Menghitung Luas segitia"
      ],
      "metadata": {
        "id": "4JisPcuq2VQD"
      }
    },
    {
      "cell_type": "code",
      "execution_count": 1,
      "metadata": {
        "colab": {
          "base_uri": "https://localhost:8080/"
        },
        "id": "jQtpXmsB1waf",
        "outputId": "8820262b-140d-45bd-ff5d-1a06bc2c8d1c"
      },
      "outputs": [
        {
          "output_type": "stream",
          "name": "stdout",
          "text": [
            "Masukkan panjang:4\n",
            "Masukkan lebar:6\n",
            "Luas persegi panjang =  24\n"
          ]
        }
      ],
      "source": [
        "p = int(input(\"Masukkan panjang:\"))\n",
        "l = int(input(\"Masukkan lebar:\"))\n",
        "luas = p * l\n",
        "print(\"Luas persegi panjang = \", luas)"
      ]
    },
    {
      "cell_type": "markdown",
      "source": [
        "# Praktikum 02: Menghitung Luas Segitiga\n"
      ],
      "metadata": {
        "id": "lSATOeRG387N"
      }
    },
    {
      "cell_type": "code",
      "source": [],
      "metadata": {
        "id": "HQp4c68X3Ml1"
      },
      "execution_count": null,
      "outputs": []
    },
    {
      "cell_type": "markdown",
      "source": [
        "# Penugasan 01"
      ],
      "metadata": {
        "id": "8bchIbbo4HxN"
      }
    },
    {
      "cell_type": "code",
      "source": [],
      "metadata": {
        "id": "cSfkl6Dv4J_x"
      },
      "execution_count": null,
      "outputs": []
    }
  ]
}