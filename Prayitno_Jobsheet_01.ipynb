{
  "nbformat": 4,
  "nbformat_minor": 0,
  "metadata": {
    "colab": {
      "provenance": [],
      "authorship_tag": "ABX9TyPMgQGDSYcd4/zBw3rjf0y/",
      "include_colab_link": true
    },
    "kernelspec": {
      "name": "python3",
      "display_name": "Python 3"
    },
    "language_info": {
      "name": "python"
    }
  },
  "cells": [
    {
      "cell_type": "markdown",
      "metadata": {
        "id": "view-in-github",
        "colab_type": "text"
      },
      "source": [
        "<a href=\"https://colab.research.google.com/github/kangPrayit/2025_algoritma_dan_pemrograman/blob/main/Prayitno_Jobsheet_01.ipynb\" target=\"_parent\"><img src=\"https://colab.research.google.com/assets/colab-badge.svg\" alt=\"Open In Colab\"/></a>"
      ]
    },
    {
      "cell_type": "markdown",
      "source": [
        "# Praktikum 01. Menghitung Luas Persegi Panjang"
      ],
      "metadata": {
        "id": "REUVKHWnP46t"
      }
    },
    {
      "cell_type": "code",
      "execution_count": 1,
      "metadata": {
        "colab": {
          "base_uri": "https://localhost:8080/"
        },
        "id": "kVhWgsObO2Qo",
        "outputId": "8e907a05-fa70-4fb2-ddad-553aa50638c0"
      },
      "outputs": [
        {
          "output_type": "stream",
          "name": "stdout",
          "text": [
            "Masukkan panjang: 3\n",
            "Masukkan lebar: 6\n",
            "Luas persegi panjang =  18\n"
          ]
        }
      ],
      "source": [
        "p = int(input(\"Masukkan panjang: \"))\n",
        "l = int(input(\"Masukkan lebar: \"))\n",
        "luas = p * l\n",
        "print(\"Luas persegi panjang = \", luas)"
      ]
    },
    {
      "cell_type": "markdown",
      "source": [
        "# Praktikum 02. Menghitung Luas Segitiga"
      ],
      "metadata": {
        "id": "2uXPafLuRVde"
      }
    },
    {
      "cell_type": "code",
      "source": [
        "# kode untuk praktikum 02"
      ],
      "metadata": {
        "id": "lblnevvGQQvL"
      },
      "execution_count": 2,
      "outputs": []
    },
    {
      "cell_type": "markdown",
      "source": [
        "Praktikum 03. Konversi Suhu"
      ],
      "metadata": {
        "id": "gGldqtuFReKT"
      }
    },
    {
      "cell_type": "code",
      "source": [
        "# kode untuk praktikum 03"
      ],
      "metadata": {
        "id": "E13jqKFWRc-t"
      },
      "execution_count": 3,
      "outputs": []
    },
    {
      "cell_type": "markdown",
      "source": [
        "# Penugasan 01"
      ],
      "metadata": {
        "id": "bCl-XUiPRjhq"
      }
    },
    {
      "cell_type": "code",
      "source": [
        "# Kode untuk Penugasan 01."
      ],
      "metadata": {
        "id": "PQW-FMHARis1"
      },
      "execution_count": 4,
      "outputs": []
    },
    {
      "cell_type": "code",
      "source": [],
      "metadata": {
        "id": "c3uK2vgMRm43"
      },
      "execution_count": null,
      "outputs": []
    }
  ]
}